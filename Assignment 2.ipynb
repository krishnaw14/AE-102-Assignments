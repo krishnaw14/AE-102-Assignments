{
 "cells": [
  {
   "cell_type": "markdown",
   "metadata": {},
   "source": [
    "# AE 102 -NUMERICAL EXPLORATION OF RANDOM VARIABLES"
   ]
  },
  {
   "cell_type": "markdown",
   "metadata": {},
   "source": [
    "## PART 1"
   ]
  },
  {
   "cell_type": "code",
   "execution_count": 1,
   "metadata": {},
   "outputs": [
    {
     "data": {
      "text/html": [
       "/*\n",
       "\n",
       "mm-dark theme is inspired by ocean-dark by Chris Kempson\n",
       "[https://github.com/chriskempson/base16] and its IPython/Jupyter notebook\n",
       "implementation by Nikhil Sonnad [https://github.com/nsonnad/base16-ipython-notebook]\n",
       "based on CodeMirror template by Jan T. Sott [https://github.com/idleberg/base16-chrome-devtools].\n",
       "\n",
       "Author: Milos Miljkovic\n",
       "https://github.com/miishke/mm_dark\n",
       "Lincense: BSD\n",
       "\n",
       "*/\n",
       "\n",
       "/*Global setting ============================================================*/\n",
       "\n",
       "/*Set fonts*/\n",
       "<link href='http://fonts.googleapis.com/css?family=Source+Code+Pro' rel='stylesheet' type='text/css'>\n",
       "<link href='http://fonts.googleapis.com/css?family=Noto+Sans' rel='stylesheet' type='text/css'>\n",
       "\n",
       "<style>\n",
       "\n",
       "body {\n",
       "  background-color: #2b303b;\n",
       "  font-family: 'Noto Sans', sans-serif !important;\n",
       "  font-size: 14px;\n",
       "}\n",
       "\n",
       "div.CodeMirror, div.output_area pre, div.output_wrapper, div.prompt {\n",
       "  font-family: 'Source Code Pro', monospace !important;\n",
       "  font-size: 15px;\n",
       "}\n",
       "\n",
       "/*Landing page ==============================================================*/\n",
       ".toolbar_info, .list_container {\n",
       "  font-family: 'Noto Sans', sans-serif;\n",
       "  font-size: 14px;\n",
       "}\n",
       "\n",
       "/*set tabs & table color*/\n",
       "div.tab-content{background-color: #ffffff;}\n",
       "\n",
       "/*fill in gap b/ween tabs & table*/\n",
       "ul#tabs {margin-bottom: 0px;}\n",
       "\n",
       "/*outline tabs*/\n",
       ".nav-tabs > li > a {\n",
       "  margin-right: 2px;\n",
       "  line-height: 1.4;\n",
       "  border: 1px solid;\n",
       "  border-radius: 4px 4px 0 0;\n",
       "}\n",
       "\n",
       "/*pad files info text*/\n",
       "#notebook_toolbar > div.col-sm-8.no-padding {padding-left: 8px;}\n",
       "\n",
       "/*pad file tab reload button*/\n",
       "#notebook_toolbar > div.col-sm-4.no-padding.tree-buttons > div.pull-right {\n",
       "  margin-right: 7px;\n",
       "}\n",
       "\n",
       "/*pad running tab info text*/\n",
       "#running_toolbar > div.col-sm-8.no-padding {padding-left: 8px;}\n",
       "\n",
       "/*pad running tab reload button*/\n",
       "#running_toolbar > div.col-sm-4.no-padding.tree-buttons {\n",
       "  padding-top: 2px;\n",
       "  padding-right: 8px;\n",
       "}\n",
       "\n",
       "/*pad cluster tab info text*/\n",
       "#cluster_toolbar > div.col-xs-8.no-padding {\n",
       "  padding-left: 8px;\n",
       "}\n",
       "\n",
       "/*pad cluster tab reload button*/\n",
       "#cluster_toolbar > div.col-xs-4.no-padding.tree-buttons {\n",
       "  padding-top: 2px;\n",
       "  padding-right: 8px;\n",
       "}\n",
       "\n",
       "/*Notebook ==================================================================*/\n",
       "\n",
       "#site {background-color: #2b303b;}\n",
       "\n",
       "#notebook-container{\n",
       "  background-color: #303540;\n",
       "  box-shadow: none;\n",
       "  webkit-box-shadow: none;\n",
       "}\n",
       "\n",
       "#header .header-bar {\n",
       "  width: 100%;\n",
       "  height: 1px;\n",
       "  background: #ffffff;\n",
       "  margin-bottom: -1px;\n",
       "}\n",
       "\n",
       ".navbar-default {\n",
       "  background-color: #ffffff;\n",
       "  border: none;\n",
       "}\n",
       "\n",
       "#menubar .navbar {\n",
       "  border-radius: 4px;\n",
       "  margin-bottom: 0;\n",
       "}\n",
       "\n",
       "#kernel_indicator {\n",
       "  float: right !important;\n",
       "  float: right;\n",
       "  margin-left: 5px;\n",
       "  margin-right: 5px;\n",
       "  width: 11px;\n",
       "  z-index: 10;\n",
       "  text-align: center;\n",
       "  width: auto;\n",
       "  border: none;\n",
       "  padding-right: 5px;\n",
       "  font-weight: bold;\n",
       "}\n",
       "\n",
       "div.input_area {border: none; border-radius: 0; background-color: #d8d8d8;}\n",
       "div.input_prompt {color: #ab7967;}\n",
       "div.output_prompt {color: #b48ead;}\n",
       "\n",
       "div.output_scroll {box-shadow: none;}\n",
       "\n",
       "div.output_area pre {\n",
       "  font-weight: normal;\n",
       "  color: #bbc0c9;\n",
       "}\n",
       "\n",
       "div.cell.selected {\n",
       "  border-radius: 0;\n",
       "  border-top: none;\n",
       "  border-right: none;\n",
       "  border-bottom: none;\n",
       "  border-left: 4px solid #65737e;\n",
       "}\n",
       "\n",
       ".edit_mode div.cell.selected {\n",
       "  border-radius: 0;\n",
       "  border-top: none;\n",
       "  border-right: none;\n",
       "  border-bottom:none;\n",
       "  border-left: 4px solid #477ca1;\n",
       "}\n",
       "\n",
       "/*text between `` in markdown cells*/\n",
       ".rendered_html code {\n",
       "  border: none;\n",
       "  background-color: #303540;\n",
       "  color: #7f848d;\n",
       "  font-family: 'Noto Sans', sans-serif;\n",
       "}\n",
       "\n",
       "blockquote {\n",
       "  font-style: italic;\n",
       "    border: none;\n",
       "}\n",
       "\n",
       ".rendered_html table, .rendered_html th, .rendered_html tr, .rendered_html td {\n",
       "  border: 1px  #bbc0c9 solid;\n",
       "  color: #bbc0c9;\n",
       "}\n",
       "\n",
       "table.dataframe tr {border: 1px #bbc0c9;}\n",
       "\n",
       "div.text_cell_render, div.output_html {\n",
       "  color: #bbc0c9;\n",
       "  font-family: 'Noto Sans', sans-serif;\n",
       "  font-size: 15px;\n",
       "}\n",
       "\n",
       "div.output_stderr {background-color: #bf616a;}\n",
       "div.output_stderr pre {color: #2e2e2e;}\n",
       "\n",
       "#complete.completions {box-shadow: none;}\n",
       "\n",
       "/*Widgets ===================================================================*/\n",
       "\n",
       "div.widget-subarea {\n",
       "  font-family: 'Noto Sans', sans-serif;\n",
       "  font-size: 15px;\n",
       "  color: #bbc0c9;\n",
       "}\n",
       "\n",
       "button.close {\n",
       "  color: #bbc0c9;\n",
       "  opacity: 1;\n",
       "  text-shadow: none;\n",
       "}\n",
       "\n",
       ".close:hover {\n",
       "  color: #ab4642;\n",
       "  opacity: 1;\n",
       "}\n",
       "\n",
       "/*CodeMirror styling ========================================================*/\n",
       ".cm-s-ipython.CodeMirror {background: #2b303b; color: #dfe1e8;}\n",
       ".cm-s-ipython div.CodeMirror-selected {background: #555f69 !important;}\n",
       ".cm-s-ipython .CodeMirror-gutters {background: #2b303b; border-right: 0px;}\n",
       ".cm-s-ipython .CodeMirror-linenumber {color: #65737e;}\n",
       "\n",
       "/*styling for block cursor to match theme colors*/\n",
       ".cm-s-ipython .CodeMirror-cursor {\n",
       "  border: none !important;\n",
       "  width: 9px !important;\n",
       "  height: 18px;\n",
       "  background: rgba(255,255,255,0.35);\n",
       "}\n",
       "\n",
       "/*styling for matching/non-matching brackets to make them stand out*/\n",
       ".cm-s-ipython .CodeMirror-matchingbracket {\n",
       "  font-weight: bold !important;\n",
       "  color: #00ffff !important;\n",
       "}\n",
       "\n",
       "div.CodeMirror span.CodeMirror-nonmatchingbracket {\n",
       "  font-weight: bold !important;\n",
       "}\n",
       "\n",
       "/*CodeMirror color styling*/\n",
       "span.ansiblack {color: #343d46;}\n",
       "span.ansired {color: #ab4642;}\n",
       "span.ansigreen {color: #a3be8c;}\n",
       "span.ansiyellow {color: #ebcb8b;}\n",
       "span.ansiblue {color: #477ca1;}\n",
       "span.ansipurple {color: #a16a94;}\n",
       "span.ansicyan {color: ##04b4ae}\n",
       "span.ansigray {color: #a7adba;}\n",
       "\n",
       ".cm-s-ipython span.cm-property, .cm-s-ipython span.cm-attribute {color: #bbc0c9;}\n",
       ".cm-s-ipython span.cm-keyword {color: #ab4642;}\n",
       ".cm-s-ipython span.cm-atom {color: #a16a94;}\n",
       ".cm-s-ipython span.cm-number {color: #dc9656;}\n",
       ".cm-s-ipython span.cm-def {color: #477ca1;}\n",
       ".cm-s-ipython span.cm-variable {color: #bbc0c9;}\n",
       ".cm-s-ipython span.cm-variable-2 {color: #6699cc;}\n",
       ".cm-s-ipython span.cm-variable-3 {color: #0080ff;}\n",
       ".cm-s-ipython span.cm-operator {color: #bc9458;}\n",
       ".cm-s-ipython span.cm-comment {color: #8c8c8c; font-style: normal;}\n",
       ".cm-s-ipython span.cm-string {color: #a1b56c;}\n",
       ".cm-s-ipython span.cm-string-2 {color: #fd971f}\n",
       ".cm-s-ipython span.cm-meta {color: #6a9fb5;}\n",
       ".cm-s-ipython span.cm-builtin {color: #b3588e;}\n",
       ".cm-s-ipython span.cm-bracket {color: #c0c5ce;}\n",
       ".cm-s-ipython span.cm-tag {color: #f2777a;}\n",
       ".cm-s-ipython span.cm-link {color: #a16a94;}\n",
       ".cm-s-ipython span.cm-error {background: #f2777a; color: #2e2e2e;}\n",
       ".cm-s-default .cm-tag {color: #6a0c7f;}\n",
       ".cm-s-default .cm-quote {color:#6a0c7f;}\n",
       ".cm-s-default .cm-comment {color: #6a0c7f !important;}\n",
       ".cm-s-default .cm-header {\n",
       "  color: #333333;\n",
       "  font-family: 'Noto Sans', sans-serif;\n",
       "  font-weight: normal;\n",
       "}\n",
       ".cm-s-default .CodeMirror-selected {background:#81daf5;}\n",
       "\n",
       "/*styling for ruler to match theme colors*/\n",
       ".CodeMirror-ruler {\n",
       "  border-left: 2px solid #303540;\n",
       "  z-index: 3;\n",
       "}\n",
       "\n",
       "/*styling for active line to match theme colors*/\n",
       ".CodeMirror-activeline-background {background: #303540;}\n",
       "\n",
       "</style>\n"
      ],
      "text/plain": [
       "<IPython.core.display.HTML object>"
      ]
     },
     "execution_count": 1,
     "metadata": {},
     "output_type": "execute_result"
    }
   ],
   "source": [
    "#employing a different theme\n",
    "from IPython.core.display import HTML\n",
    "import urllib2\n",
    "HTML(urllib2.urlopen('https://raw.githubusercontent.com/miishke/mm_dark_theme/master/mm-dark-ipython/custom.css').read()) "
   ]
  },
  {
   "cell_type": "code",
   "execution_count": 2,
   "metadata": {
    "collapsed": true
   },
   "outputs": [],
   "source": [
    "%matplotlib inline\n",
    "import matplotlib.pyplot as plt\n"
   ]
  },
  {
   "cell_type": "code",
   "execution_count": 3,
   "metadata": {
    "collapsed": true
   },
   "outputs": [],
   "source": [
    "from scipy.stats import expon\n",
    "import numpy as np"
   ]
  },
  {
   "cell_type": "code",
   "execution_count": 4,
   "metadata": {},
   "outputs": [],
   "source": [
    "X=expon.rvs(size=10000, scale=1) # creates an exponential random variable with lambda=1 "
   ]
  },
  {
   "cell_type": "code",
   "execution_count": 5,
   "metadata": {},
   "outputs": [],
   "source": [
    "Y=expon.rvs(size=10000, scale=1) # rvs function creates an array of random variates of the specified length "
   ]
  },
  {
   "cell_type": "code",
   "execution_count": 6,
   "metadata": {},
   "outputs": [],
   "source": [
    "#Creating a random variable z such that z=x/y\n",
    "Z=X/Y"
   ]
  },
  {
   "cell_type": "code",
   "execution_count": 8,
   "metadata": {},
   "outputs": [
    {
     "data": {
      "text/plain": [
       "[<matplotlib.lines.Line2D at 0x10965f590>]"
      ]
     },
     "execution_count": 8,
     "metadata": {},
     "output_type": "execute_result"
    },
    {
     "data": {
      "image/png": "[encoded data removed]",
      "text/plain": [
       "<matplotlib.figure.Figure at 0x10965fc90>"
      ]
     },
     "metadata": {},
     "output_type": "display_data"
    }
   ],
   "source": [
    "z=np.linspace(0,12,100)\n",
    "plt.hist(Z,range=(0,12),bins=100, normed=True,rwidth=0.6, histtype='barstacked', color='cyan',alpha=0.7, label='pdf of Z= X/Y',orientation ='vertical',align='mid')\n",
    "plt.plot(z, 1/((z+1)**2), color='indigo', alpha=1,linewidth =2.2)"
   ]
  },
  {
   "cell_type": "raw",
   "metadata": {},
   "source": [
    "This proves the probability density function we obtained(histogram in cyan) matches the expected probability density function of the Random variable z(shown in indigo). \n",
    "\n",
    "Explaining expected value:\n",
    "     f(x)=exp(-x) (for lambda=1) \n",
    "where f(x) is the probability density function of X. \n",
    "Now for Z: \n",
    "F(z) = P{Z<=z}  \n",
    "     = P{X<=zY} (as Z= X/Y)\n",
    "     which is double integral of f(x) and f(y), i.e., exp(-x)*exp(-y), for x ranging from 0 to zy and y ranging from 0 to infinity.\n",
    "     So, on solving  we get:\n",
    "     F(z)= z/(z+1)\n",
    "     \n",
    "    f(z)  =  F'(z) =  1\\((z+1)^2). And that is why the plotted histogram is verified by plotting it against this f(z) . \n"
   ]
  },
  {
   "cell_type": "markdown",
   "metadata": {},
   "source": [
    "### END OF PART 1 "
   ]
  },
  {
   "cell_type": "markdown",
   "metadata": {},
   "source": [
    "## PART 2 "
   ]
  },
  {
   "cell_type": "code",
   "execution_count": 7,
   "metadata": {},
   "outputs": [
    {
     "data": {
      "text/plain": [
       "<matplotlib.text.Text at 0x109a00210>"
      ]
     },
     "execution_count": 7,
     "metadata": {},
     "output_type": "execute_result"
    },
    {
     "data": {
      "image/png": "[encoded data removed]",
      "text/plain": [
       "<matplotlib.figure.Figure at 0x1096f2410>"
      ]
     },
     "metadata": {},
     "output_type": "display_data"
    }
   ],
   "source": [
    "#generating 5000 mean values for a randomly distributed Random variable with sample size= 5\n",
    "sample1=[]\n",
    "for i in range(5000):\n",
    "    ran=expon.rvs(scale=1,loc=0,size=5)\n",
    "    sample1.append(np.mean(ran))\n",
    "plt.hist(sample1,range=(0,3),bins=100, normed=True,rwidth=0.6, histtype='barstacked', color='brown', label='pdf of Z= X/Y',orientation ='vertical',align='mid')\n",
    "plt.title('Sample Size = 5' , bbox={'facecolor':'7', 'pad':3})    "
   ]
  },
  {
   "cell_type": "code",
   "execution_count": 8,
   "metadata": {},
   "outputs": [
    {
     "data": {
      "text/plain": [
       "<matplotlib.text.Text at 0x109e37d10>"
      ]
     },
     "execution_count": 8,
     "metadata": {},
     "output_type": "execute_result"
    },
    {
     "data": {
      "image/png": "[encoded data removed]",
      "text/plain": [
       "<matplotlib.figure.Figure at 0x109db6450>"
      ]
     },
     "metadata": {},
     "output_type": "display_data"
    }
   ],
   "source": [
    "#generating 5000 mean values for a randomly distributed Random variable with sample size=10 \n",
    "sample2=[]\n",
    "for i in range(5000):\n",
    "    ran=expon.rvs(scale=1,loc=0,size=10)\n",
    "    sample2.append(np.mean(ran))\n",
    "plt.hist(sample2,range=(0,3),bins=100, normed=True,rwidth=0.6, histtype='barstacked', color='olive', label='pdf of Z= X/Y',orientation ='vertical',align='mid')\n",
    "plt.title('Sample Size =10' , bbox={'facecolor':'7', 'pad':3})    "
   ]
  },
  {
   "cell_type": "code",
   "execution_count": 9,
   "metadata": {},
   "outputs": [
    {
     "data": {
      "text/plain": [
       "<matplotlib.text.Text at 0x10a1ac890>"
      ]
     },
     "execution_count": 9,
     "metadata": {},
     "output_type": "execute_result"
    },
    {
     "data": {
      "image/png": "[encoded data removed]",
      "text/plain": [
       "<matplotlib.figure.Figure at 0x10a126d50>"
      ]
     },
     "metadata": {},
     "output_type": "display_data"
    }
   ],
   "source": [
    "#generating 5000 mean values for a randomly distributed Random variable with sample size=20 \n",
    "sample3=[]\n",
    "for i in range(5000):\n",
    "    ran=expon.rvs(scale=1,loc=0,size=20)\n",
    "    sample3.append(np.mean(ran))\n",
    "plt.hist(sample3,range=(0,3),bins=100, normed=True,rwidth=0.6, histtype='barstacked', color='red',alpha=0.8, label='pdf of Z= X/Y',orientation ='vertical',align='mid')\n",
    "plt.title('Sample Size =20' , bbox={'facecolor':'7', 'pad':3})    "
   ]
  },
  {
   "cell_type": "code",
   "execution_count": 10,
   "metadata": {},
   "outputs": [
    {
     "data": {
      "text/plain": [
       "<matplotlib.text.Text at 0x10a6a16d0>"
      ]
     },
     "execution_count": 10,
     "metadata": {},
     "output_type": "execute_result"
    },
    {
     "data": {
      "image/png": "[encoded data removed]",
      "text/plain": [
       "<matplotlib.figure.Figure at 0x10a5b2ed0>"
      ]
     },
     "metadata": {},
     "output_type": "display_data"
    }
   ],
   "source": [
    "#generating 5000 mean values for a randomly distributed Random variable with sample size=40\n",
    "sample4=[]\n",
    "for i in range(5000):\n",
    "    ran=expon.rvs(scale=1,loc=0,size=40)\n",
    "    sample4.append(np.mean(ran))\n",
    "plt.hist(sample4,range=(0,3),bins=100, normed=True,rwidth=0.6, histtype='barstacked', color='blue', label='pdf of Z= X/Y',orientation ='vertical',align='mid')\n",
    "plt.title('Sample Size =40' , bbox={'facecolor':'7', 'pad':3})    "
   ]
  },
  {
   "cell_type": "code",
   "execution_count": 11,
   "metadata": {},
   "outputs": [
    {
     "data": {
      "text/plain": [
       "<matplotlib.text.Text at 0x10b326b50>"
      ]
     },
     "execution_count": 11,
     "metadata": {},
     "output_type": "execute_result"
    },
    {
     "data": {
      "image/png": "[encoded data removed]",
      "text/plain": [
       "<matplotlib.figure.Figure at 0x10b22cb10>"
      ]
     },
     "metadata": {},
     "output_type": "display_data"
    }
   ],
   "source": [
    "#generating 5000 mean values for a randomly distributed Random variable with sample size=80\n",
    "sample5=[]\n",
    "for i in range(5000):\n",
    "    ran=expon.rvs(scale=1,loc=0,size=80)\n",
    "    sample5.append(np.mean(ran))\n",
    "plt.hist(sample5,range=(0,3),bins=100, normed=True,rwidth=0.6, histtype='barstacked', color='green',alpha=0.7, label='pdf of Z= X/Y',orientation ='vertical',align='mid')\n",
    "plt.title('Sample Size =80' , bbox={'facecolor':'7', 'pad':3})    "
   ]
  },
  {
   "cell_type": "code",
   "execution_count": 12,
   "metadata": {},
   "outputs": [
    {
     "data": {
      "text/plain": [
       "<matplotlib.text.Text at 0x10b8b8490>"
      ]
     },
     "execution_count": 12,
     "metadata": {},
     "output_type": "execute_result"
    },
    {
     "data": {
      "image/png": "[encoded data removed]",
      "text/plain": [
       "<matplotlib.figure.Figure at 0x10b6d2b90>"
      ]
     },
     "metadata": {},
     "output_type": "display_data"
    }
   ],
   "source": [
    "#generating 5000 mean values for a randomly distributed Random variable with sample size=160\n",
    "sample6=[]\n",
    "for i in range(5000):\n",
    "    ran=expon.rvs(scale=1,loc=0,size=160)\n",
    "    sample6.append(np.mean(ran))\n",
    "plt.hist(sample6,range=(0,3),bins=100, normed=True,rwidth=0.6, histtype='barstacked', color='magenta', label='pdf of Z= X/Y',orientation ='vertical')\n",
    "plt.title('Sample Size =160' , bbox={'facecolor':'7', 'pad':3})    "
   ]
  },
  {
   "cell_type": "code",
   "execution_count": 13,
   "metadata": {},
   "outputs": [
    {
     "data": {
      "text/plain": [
       "<matplotlib.text.Text at 0x10bd20050>"
      ]
     },
     "execution_count": 13,
     "metadata": {},
     "output_type": "execute_result"
    },
    {
     "data": {
      "image/png": "[encoded data removed]",
      "text/plain": [
       "<matplotlib.figure.Figure at 0x10bb44a10>"
      ]
     },
     "metadata": {},
     "output_type": "display_data"
    }
   ],
   "source": [
    "#generating 5000 mean values for a randomly distributed Random variable with sample size=320\n",
    "sample7=[]\n",
    "for i in range(5000):\n",
    "    ran=expon.rvs(scale=1,loc=0,size=320)\n",
    "    sample7.append(np.mean(ran))\n",
    "plt.hist(sample7,range=(0,3),bins=100, normed=True,rwidth=0.6, histtype='barstacked', color='orange',alpha=0.9, label='pdf of Z= X/Y',orientation ='vertical')   \n",
    "plt.title('Sample Size =320' , bbox={'facecolor':'7', 'pad':3})"
   ]
  },
  {
   "cell_type": "code",
   "execution_count": 14,
   "metadata": {
    "collapsed": true
   },
   "outputs": [],
   "source": [
    "deviation=[]\n",
    "deviation.append(np.std(sample1))\n",
    "deviation.append(np.std(sample2))\n",
    "deviation.append(np.std(sample3))\n",
    "deviation.append(np.std(sample4))\n",
    "deviation.append(np.std(sample5))\n",
    "deviation.append(np.std(sample6))\n",
    "deviation.append(np.std(sample7))"
   ]
  },
  {
   "cell_type": "code",
   "execution_count": 15,
   "metadata": {},
   "outputs": [
    {
     "data": {
      "text/html": [
       "<div>\n",
       "<table border=\"1\" class=\"dataframe\">\n",
       "  <thead>\n",
       "    <tr style=\"text-align: right;\">\n",
       "      <th></th>\n",
       "      <th>Sample Size</th>\n",
       "      <th>Square root of Sample Size</th>\n",
       "      <th>Standard Deviation</th>\n",
       "    </tr>\n",
       "  </thead>\n",
       "  <tbody>\n",
       "    <tr>\n",
       "      <th>0</th>\n",
       "      <td>5</td>\n",
       "      <td>2.236068</td>\n",
       "      <td>0.435530</td>\n",
       "    </tr>\n",
       "    <tr>\n",
       "      <th>1</th>\n",
       "      <td>10</td>\n",
       "      <td>3.162278</td>\n",
       "      <td>0.317455</td>\n",
       "    </tr>\n",
       "    <tr>\n",
       "      <th>2</th>\n",
       "      <td>20</td>\n",
       "      <td>4.472136</td>\n",
       "      <td>0.222841</td>\n",
       "    </tr>\n",
       "    <tr>\n",
       "      <th>3</th>\n",
       "      <td>40</td>\n",
       "      <td>6.324555</td>\n",
       "      <td>0.156108</td>\n",
       "    </tr>\n",
       "    <tr>\n",
       "      <th>4</th>\n",
       "      <td>80</td>\n",
       "      <td>8.944272</td>\n",
       "      <td>0.110981</td>\n",
       "    </tr>\n",
       "    <tr>\n",
       "      <th>5</th>\n",
       "      <td>160</td>\n",
       "      <td>12.649111</td>\n",
       "      <td>0.078709</td>\n",
       "    </tr>\n",
       "    <tr>\n",
       "      <th>6</th>\n",
       "      <td>320</td>\n",
       "      <td>17.888544</td>\n",
       "      <td>0.056974</td>\n",
       "    </tr>\n",
       "  </tbody>\n",
       "</table>\n",
       "</div>"
      ],
      "text/plain": [
       "   Sample Size  Square root of Sample Size  Standard Deviation\n",
       "0            5                    2.236068            0.435530\n",
       "1           10                    3.162278            0.317455\n",
       "2           20                    4.472136            0.222841\n",
       "3           40                    6.324555            0.156108\n",
       "4           80                    8.944272            0.110981\n",
       "5          160                   12.649111            0.078709\n",
       "6          320                   17.888544            0.056974"
      ]
     },
     "execution_count": 15,
     "metadata": {},
     "output_type": "execute_result"
    }
   ],
   "source": [
    "import pandas as pd\n",
    "sz=[5,10,20,40,80,160,320]\n",
    "sqsz=[]\n",
    "for i in sz:\n",
    "    sqsz.append(i**0.5)\n",
    "pd.DataFrame({\"Sample Size\": sz , \"Square root of Sample Size\": sqsz, \"Standard Deviation\": deviation})    "
   ]
  },
  {
   "cell_type": "raw",
   "metadata": {},
   "source": [
    "The DataFrame suggests that standard deviation reduces as the sample size increases, which makes sense as the spread of the histograms reduce as the sample size is increased.\n",
    "In fact, standard deviation reduces as the sqare root of sample size. I will verify this claim graphically in the following part of the assignment."
   ]
  },
  {
   "cell_type": "code",
   "execution_count": 16,
   "metadata": {},
   "outputs": [
    {
     "data": {
      "text/plain": [
       "<matplotlib.text.Text at 0x10969fe10>"
      ]
     },
     "execution_count": 16,
     "metadata": {},
     "output_type": "execute_result"
    },
    {
     "data": {
      "image/png": "[encoded data removed]",
      "text/plain": [
       "<matplotlib.figure.Figure at 0x10d1d8c50>"
      ]
     },
     "metadata": {},
     "output_type": "display_data"
    }
   ],
   "source": [
    "\n",
    "x=np.linspace(5, 320, 1000)\n",
    "plt.plot(sz,deviation,'mo')\n",
    "plt.plot(x,x**-0.5,'g-')\n",
    "plt.title('Standard deviation vs sample size' , bbox={'facecolor':'5', 'pad':3})"
   ]
  },
  {
   "cell_type": "raw",
   "metadata": {
    "collapsed": true
   },
   "source": [
    "This plot verifies the claim standard deviation reduces as square root of sample size as all the deviation points found lie on y=1/x^0.5 curve. Another manifestation of this can be give by the following plot."
   ]
  },
  {
   "cell_type": "code",
   "execution_count": 17,
   "metadata": {},
   "outputs": [
    {
     "data": {
      "text/plain": [
       "<matplotlib.text.Text at 0x10d592750>"
      ]
     },
     "execution_count": 17,
     "metadata": {},
     "output_type": "execute_result"
    },
    {
     "data": {
      "image/png": "[encoded data removed]",
      "text/plain": [
       "<matplotlib.figure.Figure at 0x10d3cd6d0>"
      ]
     },
     "metadata": {},
     "output_type": "display_data"
    }
   ],
   "source": [
    "siz=[]\n",
    "for i in sz:\n",
    "    siz.append(i**-0.5)\n",
    "plt.plot(siz, deviation, 'rD')\n",
    "plt.plot(siz, deviation, 'b-')\n",
    "plt.title('Standard deviation vs (sample size)^-0.5' , bbox={'facecolor':'5', 'pad':3})"
   ]
  },
  {
   "cell_type": "raw",
   "metadata": {},
   "source": [
    "We get a (almost)straight line for this plot. This further consolidates the claim."
   ]
  },
  {
   "cell_type": "code",
   "execution_count": 18,
   "metadata": {},
   "outputs": [
    {
     "data": {
      "text/plain": [
       "<matplotlib.text.Text at 0x10d6c7950>"
      ]
     },
     "execution_count": 18,
     "metadata": {},
     "output_type": "execute_result"
    },
    {
     "data": {
      "image/png": "[encoded data removed]",
      "text/plain": [
       "<matplotlib.figure.Figure at 0x10d6129d0>"
      ]
     },
     "metadata": {},
     "output_type": "display_data"
    }
   ],
   "source": [
    "plt.plot(sz,deviation,'b--')\n",
    "plt.plot(x,x**-0.5,'r-', alpha=0.35)\n",
    "plt.title('Standard deviation vs sample size' , bbox={'facecolor':'5', 'pad':3})"
   ]
  },
  {
   "cell_type": "raw",
   "metadata": {},
   "source": [
    "The two plots coincide,thus backing the previous statement."
   ]
  },
  {
   "cell_type": "markdown",
   "metadata": {},
   "source": [
    "# THE END"
   ]
  }
 ],
 "metadata": {
  "anaconda-cloud": {},
  "kernelspec": {
   "display_name": "Python 3",
   "language": "python",
   "name": "python3"
  },
  "language_info": {
   "codemirror_mode": {
    "name": "ipython",
    "version": 3
   },
   "file_extension": ".py",
   "mimetype": "text/x-python",
   "name": "python",
   "nbconvert_exporter": "python",
   "pygments_lexer": "ipython3",
   "version": "3.6.2"
  }
 },
 "nbformat": 4,
 "nbformat_minor": 2
}
